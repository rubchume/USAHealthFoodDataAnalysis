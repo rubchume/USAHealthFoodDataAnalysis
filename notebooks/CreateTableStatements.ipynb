{
 "cells": [
  {
   "cell_type": "code",
   "execution_count": 1,
   "id": "6328f249-7145-4533-b52a-8d4167d6776c",
   "metadata": {},
   "outputs": [],
   "source": [
    "from pathlib import Path"
   ]
  },
  {
   "cell_type": "code",
   "execution_count": 2,
   "id": "cce0373a-1bce-4b68-9568-fe5ea9ef74f3",
   "metadata": {},
   "outputs": [],
   "source": [
    "def render_create_table_with_percentage_columns_template(template_file, columns_file):\n",
    "    column_definition_percentage_type_template = \"    {variable} DECIMAL(5, 2)\"\n",
    "    new_line_character = \"\\n\"\n",
    "    \n",
    "    with Path(template_file).open(\"r\") as file:\n",
    "        template = file.read()\n",
    "\n",
    "    with Path(columns_file).open(\"r\") as file:\n",
    "        selected_variables = file.read().splitlines()\n",
    "        \n",
    "    column_definitions = [\n",
    "        column_definition_percentage_type_template.format(variable=variable)\n",
    "        for variable in selected_variables\n",
    "    ]\n",
    "    column_definitions_text = f\",{new_line_character}\".join(column_definitions)\n",
    "    \n",
    "    return template.format(variable_columns=column_definitions_text)\n"
   ]
  },
  {
   "cell_type": "code",
   "execution_count": 3,
   "id": "444b8687-d43a-4c68-ab85-3532b1453bcc",
   "metadata": {},
   "outputs": [],
   "source": [
    "create_staging_table_template = \"create_staging_table_template.sql\"\n",
    "staging_columns_file = \"food_environment_atlas_selected_variables.txt\"\n",
    "\n",
    "# create_county_data_table_template = \"create_county_data_table_template.sql\"\n",
    "# county_data_columns_file = \"county_data_columns_file.txt\""
   ]
  },
  {
   "cell_type": "code",
   "execution_count": 6,
   "id": "86c91364-6461-4578-b8ac-59e2e11d8c79",
   "metadata": {},
   "outputs": [],
   "source": [
    "create_staging_table_statement = render_create_table_with_percentage_columns_template(create_staging_table_template, staging_columns_file)\n",
    "# create_county_data_table_statement = render_create_table_with_percentage_columns_template(create_county_data_table_template, county_data_columns_file)\n",
    "\n",
    "with Path(\"create_county_state_data_table.sql\").open(\"w\") as file:\n",
    "    file.write(create_staging_table_statement)"
   ]
  },
  {
   "cell_type": "code",
   "execution_count": null,
   "id": "73d893e1-387b-4bd7-8b40-87720e5fb782",
   "metadata": {},
   "outputs": [],
   "source": []
  }
 ],
 "metadata": {
  "kernelspec": {
   "display_name": "Python 3 (ipykernel)",
   "language": "python",
   "name": "python3"
  },
  "language_info": {
   "codemirror_mode": {
    "name": "ipython",
    "version": 3
   },
   "file_extension": ".py",
   "mimetype": "text/x-python",
   "name": "python",
   "nbconvert_exporter": "python",
   "pygments_lexer": "ipython3",
   "version": "3.10.7"
  }
 },
 "nbformat": 4,
 "nbformat_minor": 5
}
