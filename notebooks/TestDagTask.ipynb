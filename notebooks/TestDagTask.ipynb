{
 "cells": [
  {
   "cell_type": "code",
   "execution_count": 4,
   "id": "3de9026b-580d-4d8f-a388-c259426307d7",
   "metadata": {},
   "outputs": [],
   "source": [
    "from airflow.providers.postgres.hooks.postgres import PostgresHook"
   ]
  },
  {
   "cell_type": "code",
   "execution_count": 2,
   "id": "9c1a8d04-99e5-4fe4-9646-bc79dd2eaf57",
   "metadata": {},
   "outputs": [],
   "source": []
  }
 ],
 "metadata": {
  "kernelspec": {
   "display_name": "Python 3 (ipykernel)",
   "language": "python",
   "name": "python3"
  },
  "language_info": {
   "codemirror_mode": {
    "name": "ipython",
    "version": 3
   },
   "file_extension": ".py",
   "mimetype": "text/x-python",
   "name": "python",
   "nbconvert_exporter": "python",
   "pygments_lexer": "ipython3",
   "version": "3.10.7"
  }
 },
 "nbformat": 4,
 "nbformat_minor": 5
}
