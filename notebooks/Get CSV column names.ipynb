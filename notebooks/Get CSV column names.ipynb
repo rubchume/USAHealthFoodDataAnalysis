{
 "cells": [
  {
   "cell_type": "code",
   "execution_count": 14,
   "id": "1025703c-d8c3-4246-b60a-94c7ed5eecc8",
   "metadata": {},
   "outputs": [
    {
     "data": {
      "text/plain": [
       "['Date',\n",
       " 'FIPS',\n",
       " 'MMWR_week',\n",
       " 'Recip_County',\n",
       " 'Recip_State',\n",
       " 'Completeness_pct',\n",
       " 'Administered_Dose1_Recip',\n",
       " 'Administered_Dose1_Pop_Pct',\n",
       " 'Administered_Dose1_Recip_5Plus',\n",
       " 'Administered_Dose1_Recip_5PlusPop_Pct',\n",
       " 'Administered_Dose1_Recip_12Plus',\n",
       " 'Administered_Dose1_Recip_12PlusPop_Pct',\n",
       " 'Administered_Dose1_Recip_18Plus',\n",
       " 'Administered_Dose1_Recip_18PlusPop_Pct',\n",
       " 'Administered_Dose1_Recip_65Plus',\n",
       " 'Administered_Dose1_Recip_65PlusPop_Pct',\n",
       " 'Series_Complete_Yes',\n",
       " 'Series_Complete_Pop_Pct',\n",
       " 'Series_Complete_5Plus',\n",
       " 'Series_Complete_5PlusPop_Pct',\n",
       " 'Series_Complete_5to17',\n",
       " 'Series_Complete_5to17Pop_Pct',\n",
       " 'Series_Complete_12Plus',\n",
       " 'Series_Complete_12PlusPop_Pct',\n",
       " 'Series_Complete_18Plus',\n",
       " 'Series_Complete_18PlusPop_Pct',\n",
       " 'Series_Complete_65Plus',\n",
       " 'Series_Complete_65PlusPop_Pct',\n",
       " 'Booster_Doses',\n",
       " 'Booster_Doses_Vax_Pct',\n",
       " 'Booster_Doses_5Plus',\n",
       " 'Booster_Doses_5Plus_Vax_Pct',\n",
       " 'Booster_Doses_12Plus',\n",
       " 'Booster_Doses_12Plus_Vax_Pct',\n",
       " 'Booster_Doses_18Plus',\n",
       " 'Booster_Doses_18Plus_Vax_Pct',\n",
       " 'Booster_Doses_50Plus',\n",
       " 'Booster_Doses_50Plus_Vax_Pct',\n",
       " 'Booster_Doses_65Plus',\n",
       " 'Booster_Doses_65Plus_Vax_Pct',\n",
       " 'Second_Booster_50Plus',\n",
       " 'Second_Booster_50Plus_Vax_Pct',\n",
       " 'Second_Booster_65Plus',\n",
       " 'Second_Booster_65Plus_Vax_Pct',\n",
       " 'SVI_CTGY',\n",
       " 'Series_Complete_Pop_Pct_SVI',\n",
       " 'Series_Complete_5PlusPop_Pct_SVI',\n",
       " 'Series_Complete_5to17Pop_Pct_SVI',\n",
       " 'Series_Complete_12PlusPop_Pct_SVI',\n",
       " 'Series_Complete_18PlusPop_Pct_SVI',\n",
       " 'Series_Complete_65PlusPop_Pct_SVI',\n",
       " 'Metro_status',\n",
       " 'Series_Complete_Pop_Pct_UR_Equity',\n",
       " 'Series_Complete_5PlusPop_Pct_UR_Equity',\n",
       " 'Series_Complete_5to17Pop_Pct_UR_Equity',\n",
       " 'Series_Complete_12PlusPop_Pct_UR_Equity',\n",
       " 'Series_Complete_18PlusPop_Pct_UR_Equity',\n",
       " 'Series_Complete_65PlusPop_Pct_UR_Equity',\n",
       " 'Booster_Doses_Vax_Pct_SVI',\n",
       " 'Booster_Doses_12PlusVax_Pct_SVI',\n",
       " 'Booster_Doses_18PlusVax_Pct_SVI',\n",
       " 'Booster_Doses_65PlusVax_Pct_SVI',\n",
       " 'Booster_Doses_Vax_Pct_UR_Equity',\n",
       " 'Booster_Doses_12PlusVax_Pct_UR_Equity',\n",
       " 'Booster_Doses_18PlusVax_Pct_UR_Equity',\n",
       " 'Booster_Doses_65PlusVax_Pct_UR_Equity',\n",
       " 'Census2019',\n",
       " 'Census2019_5PlusPop',\n",
       " 'Census2019_5to17Pop',\n",
       " 'Census2019_12PlusPop',\n",
       " 'Census2019_18PlusPop',\n",
       " 'Census2019_65PlusPop']"
      ]
     },
     "execution_count": 14,
     "metadata": {},
     "output_type": "execute_result"
    }
   ],
   "source": [
    "import csv\n",
    "from pathlib import Path\n",
    "\n",
    "\n",
    "def get_csv_column_names(csv_file_name):\n",
    "    with Path(csv_file_name).open(\"r\") as f:\n",
    "        d_reader = csv.DictReader(f)\n",
    "\n",
    "        return d_reader.fieldnames\n",
    "\n",
    "    \n",
    "get_csv_column_names(\"../data/CentersForDiseaseControlAndPrevention/COVID-19_Vaccinations_in_the_United_States_County.csv\")"
   ]
  }
 ],
 "metadata": {
  "kernelspec": {
   "display_name": "Python 3 (ipykernel)",
   "language": "python",
   "name": "python3"
  },
  "language_info": {
   "codemirror_mode": {
    "name": "ipython",
    "version": 3
   },
   "file_extension": ".py",
   "mimetype": "text/x-python",
   "name": "python",
   "nbconvert_exporter": "python",
   "pygments_lexer": "ipython3",
   "version": "3.10.7"
  }
 },
 "nbformat": 4,
 "nbformat_minor": 5
}
