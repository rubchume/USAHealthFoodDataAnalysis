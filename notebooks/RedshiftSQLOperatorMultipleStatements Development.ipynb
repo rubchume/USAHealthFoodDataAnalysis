{
 "cells": [
  {
   "cell_type": "code",
   "execution_count": 3,
   "id": "c07752de-179c-4773-af37-ee6855ac6ea5",
   "metadata": {},
   "outputs": [],
   "source": [
    "from pathlib import Path\n",
    "\n",
    "import sqlparse"
   ]
  },
  {
   "cell_type": "code",
   "execution_count": 6,
   "id": "6e6ed146-068e-4098-9972-8bcdd60bd9d8",
   "metadata": {},
   "outputs": [
    {
     "data": {
      "text/plain": [
       "['CREATE TABLE CountyStateHealthDataStagingPivoted AS\\n    SELECT * FROM CountyStateHealthDataStaging\\n    PIVOT (\\n        AVG(Value) FOR Variable_Code IN (\\n            {{ ti.xcom_pull(key=\"return_value\") }}\\n        )\\n    );',\n",
       " 'CREATE TABLE CountyStateHealthDataStagingPivoted AS\\n    SELECT * FROM CountyStateHealthDataStaging\\n    PIVOT (\\n        AVG(Value) FOR Variable_Code IN (\\n            {{ ti.xcom_pull(key=\"return_value\") }}\\n        )\\n    );']"
      ]
     },
     "execution_count": 6,
     "metadata": {},
     "output_type": "execute_result"
    }
   ],
   "source": [
    "sql_file = \"multiple_sql_statements.sql\"\n",
    "\n",
    "def get_sql_statements(sql_file):\n",
    "    with Path(sql_file).open(\"r\") as file:\n",
    "        sql_string = file.read()\n",
    "        return sqlparse.split(sql_string)\n",
    "    \n",
    "get_sql_statements(sql_file)"
   ]
  }
 ],
 "metadata": {
  "kernelspec": {
   "display_name": "Python 3 (ipykernel)",
   "language": "python",
   "name": "python3"
  },
  "language_info": {
   "codemirror_mode": {
    "name": "ipython",
    "version": 3
   },
   "file_extension": ".py",
   "mimetype": "text/x-python",
   "name": "python",
   "nbconvert_exporter": "python",
   "pygments_lexer": "ipython3",
   "version": "3.10.7"
  }
 },
 "nbformat": 4,
 "nbformat_minor": 5
}
